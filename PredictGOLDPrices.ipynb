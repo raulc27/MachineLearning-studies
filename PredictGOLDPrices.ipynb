{
 "cells": [
  {
   "cell_type": "code",
   "execution_count": 17,
   "metadata": {},
   "outputs": [
    {
     "ename": "ModuleNotFoundError",
     "evalue": "No module named 'ipynb.fs.defs.sys'",
     "output_type": "error",
     "traceback": [
      "\u001b[1;31m---------------------------------------------------------------------------\u001b[0m",
      "\u001b[1;31mModuleNotFoundError\u001b[0m                       Traceback (most recent call last)",
      "Cell \u001b[1;32mIn [17], line 3\u001b[0m\n\u001b[0;32m      1\u001b[0m \u001b[39m#%run GoldETFData.ipynb\u001b[39;00m\n\u001b[0;32m      2\u001b[0m \u001b[39m#from ipynb.fs.defs.GoldETFData import linear, yf\u001b[39;00m\n\u001b[1;32m----> 3\u001b[0m \u001b[39mfrom\u001b[39;00m \u001b[39mipynb\u001b[39;00m\u001b[39m.\u001b[39;00m\u001b[39mfs\u001b[39;00m\u001b[39m.\u001b[39;00m\u001b[39mdefs\u001b[39;00m\u001b[39m.\u001b[39;00m\u001b[39msys\u001b[39;00m\u001b[39m.\u001b[39;00m\u001b[39mGoldETFData\u001b[39;00m \u001b[39mimport\u001b[39;00m linear, yf\n\u001b[0;32m      4\u001b[0m \u001b[39mimport\u001b[39;00m \u001b[39mdatetime\u001b[39;00m \u001b[39mas\u001b[39;00m \u001b[39mdt\u001b[39;00m\n\u001b[0;32m      5\u001b[0m current_date \u001b[39m=\u001b[39m dt\u001b[39m.\u001b[39mdatetime\u001b[39m.\u001b[39mnow()\n",
      "\u001b[1;31mModuleNotFoundError\u001b[0m: No module named 'ipynb.fs.defs.sys'"
     ]
    }
   ],
   "source": [
    "#%run GoldETFData.ipynb\n",
    "from GoldPredictModel import linear, yf\n",
    "#from ipynb.fs.defs.GoldETFData import linear, yf\n",
    "import datetime as dt\n",
    "current_date = dt.datetime.now()\n"
   ]
  },
  {
   "cell_type": "code",
   "execution_count": 3,
   "metadata": {},
   "outputs": [
    {
     "name": "stdout",
     "output_type": "stream",
     "text": [
      "[*********************100%***********************]  1 of 1 completed\n"
     ]
    }
   ],
   "source": [
    "# Get the data\n",
    "\n",
    "data = yf.download('GLD', '2008-06-01', current_date, auto_adjust=True)\n",
    "data['S_3'] = data['Close'].rolling(window=3).mean()\n",
    "data['S_9'] = data['Close'].rolling(window=9).mean()\n",
    "data = data.dropna()"
   ]
  },
  {
   "cell_type": "code",
   "execution_count": 4,
   "metadata": {},
   "outputs": [
    {
     "ename": "NameError",
     "evalue": "name 'linear' is not defined",
     "output_type": "error",
     "traceback": [
      "\u001b[1;31m---------------------------------------------------------------------------\u001b[0m",
      "\u001b[1;31mNameError\u001b[0m                                 Traceback (most recent call last)",
      "Cell \u001b[1;32mIn [4], line 2\u001b[0m\n\u001b[0;32m      1\u001b[0m \u001b[39m# Forecast the price\u001b[39;00m\n\u001b[1;32m----> 2\u001b[0m data[\u001b[39m'\u001b[39m\u001b[39mpredicted_gold_price\u001b[39m\u001b[39m'\u001b[39m] \u001b[39m=\u001b[39m linear\u001b[39m.\u001b[39mpredict(data[[\u001b[39m'\u001b[39m\u001b[39mS_3\u001b[39m\u001b[39m'\u001b[39m, \u001b[39m'\u001b[39m\u001b[39mS_9\u001b[39m\u001b[39m'\u001b[39m]])\n\u001b[0;32m      3\u001b[0m data[\u001b[39m'\u001b[39m\u001b[39msignal\u001b[39m\u001b[39m'\u001b[39m] \u001b[39m=\u001b[39m np\u001b[39m.\u001b[39mwhere(data\u001b[39m.\u001b[39mpredicted_gold_price\u001b[39m.\u001b[39mshift(\u001b[39m1\u001b[39m) \u001b[39m<\u001b[39m data\u001b[39m.\u001b[39mpredicted_gold_price, \u001b[39m\"\u001b[39m\u001b[39mBuy\u001b[39m\u001b[39m\"\u001b[39m, \u001b[39m\"\u001b[39m\u001b[39mNo Position\u001b[39m\u001b[39m\"\u001b[39m)\n",
      "\u001b[1;31mNameError\u001b[0m: name 'linear' is not defined"
     ]
    }
   ],
   "source": [
    "# Forecast the price\n",
    "data['predicted_gold_price'] = linear.predict(data[['S_3', 'S_9']])\n",
    "data['signal'] = np.where(data.predicted_gold_price.shift(1) < data.predicted_gold_price, \"Buy\", \"No Position\")\n"
   ]
  }
 ],
 "metadata": {
  "kernelspec": {
   "display_name": "Python 3",
   "language": "python",
   "name": "python3"
  },
  "language_info": {
   "codemirror_mode": {
    "name": "ipython",
    "version": 3
   },
   "file_extension": ".py",
   "mimetype": "text/x-python",
   "name": "python",
   "nbconvert_exporter": "python",
   "pygments_lexer": "ipython3",
   "version": "3.9.9"
  },
  "orig_nbformat": 4,
  "vscode": {
   "interpreter": {
    "hash": "1c38b1c9abd2c6bfcb1ed2e408fd38deabd48071ce396677118583ebc92ceedc"
   }
  }
 },
 "nbformat": 4,
 "nbformat_minor": 2
}
