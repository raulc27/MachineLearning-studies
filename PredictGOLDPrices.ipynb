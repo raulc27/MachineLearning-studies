{
 "cells": [
  {
   "cell_type": "code",
   "execution_count": 21,
   "metadata": {},
   "outputs": [],
   "source": [
    "#%run GoldETFData.ipynb\n",
    "from GoldPredictModel import linear, yf, np\n",
    "#from ipynb.fs.defs.GoldETFData import linear, yf\n",
    "import datetime as dt\n",
    "current_date = dt.datetime.now()\n"
   ]
  },
  {
   "cell_type": "code",
   "execution_count": 22,
   "metadata": {},
   "outputs": [
    {
     "name": "stdout",
     "output_type": "stream",
     "text": [
      "[*********************100%***********************]  1 of 1 completed\n"
     ]
    }
   ],
   "source": [
    "# Get the data\n",
    "\n",
    "data = yf.download('GLD', '2008-06-01', current_date, auto_adjust=True)\n",
    "data['S_3'] = data['Close'].rolling(window=3).mean()\n",
    "data['S_9'] = data['Close'].rolling(window=9).mean()\n",
    "data = data.dropna()"
   ]
  },
  {
   "cell_type": "code",
   "execution_count": 23,
   "metadata": {},
   "outputs": [
    {
     "name": "stderr",
     "output_type": "stream",
     "text": [
      "C:\\Users\\raul.de.almeida.neto\\AppData\\Local\\Temp\\ipykernel_9132\\1817246231.py:2: SettingWithCopyWarning: \n",
      "A value is trying to be set on a copy of a slice from a DataFrame.\n",
      "Try using .loc[row_indexer,col_indexer] = value instead\n",
      "\n",
      "See the caveats in the documentation: https://pandas.pydata.org/pandas-docs/stable/user_guide/indexing.html#returning-a-view-versus-a-copy\n",
      "  data['predicted_gold_price'] = linear.predict(data[['S_3', 'S_9']])\n",
      "C:\\Users\\raul.de.almeida.neto\\AppData\\Local\\Temp\\ipykernel_9132\\1817246231.py:3: SettingWithCopyWarning: \n",
      "A value is trying to be set on a copy of a slice from a DataFrame.\n",
      "Try using .loc[row_indexer,col_indexer] = value instead\n",
      "\n",
      "See the caveats in the documentation: https://pandas.pydata.org/pandas-docs/stable/user_guide/indexing.html#returning-a-view-versus-a-copy\n",
      "  data['signal'] = np.where(data.predicted_gold_price.shift(1) < data.predicted_gold_price, \"Buy\", \"No Position\")\n"
     ]
    }
   ],
   "source": [
    "# Forecast the price\n",
    "data['predicted_gold_price'] = linear.predict(data[['S_3', 'S_9']])\n",
    "data['signal'] = np.where(data.predicted_gold_price.shift(1) < data.predicted_gold_price, \"Buy\", \"No Position\")\n"
   ]
  },
  {
   "cell_type": "code",
   "execution_count": 24,
   "metadata": {},
   "outputs": [
    {
     "data": {
      "text/html": [
       "<div>\n",
       "<style scoped>\n",
       "    .dataframe tbody tr th:only-of-type {\n",
       "        vertical-align: middle;\n",
       "    }\n",
       "\n",
       "    .dataframe tbody tr th {\n",
       "        vertical-align: top;\n",
       "    }\n",
       "\n",
       "    .dataframe thead th {\n",
       "        text-align: right;\n",
       "    }\n",
       "</style>\n",
       "<table border=\"1\" class=\"dataframe\">\n",
       "  <thead>\n",
       "    <tr style=\"text-align: right;\">\n",
       "      <th>Date</th>\n",
       "      <th>2023-01-20 00:00:00-05:00</th>\n",
       "    </tr>\n",
       "  </thead>\n",
       "  <tbody>\n",
       "    <tr>\n",
       "      <th>signal</th>\n",
       "      <td>Buy</td>\n",
       "    </tr>\n",
       "    <tr>\n",
       "      <th>predicted_gold_price</th>\n",
       "      <td>178.950084</td>\n",
       "    </tr>\n",
       "  </tbody>\n",
       "</table>\n",
       "</div>"
      ],
      "text/plain": [
       "Date                 2023-01-20 00:00:00-05:00\n",
       "signal                                     Buy\n",
       "predicted_gold_price                178.950084"
      ]
     },
     "execution_count": 24,
     "metadata": {},
     "output_type": "execute_result"
    }
   ],
   "source": [
    "# print the forecast\n",
    "data.tail(1)[['signal','predicted_gold_price']].T"
   ]
  }
 ],
 "metadata": {
  "kernelspec": {
   "display_name": "Python 3",
   "language": "python",
   "name": "python3"
  },
  "language_info": {
   "codemirror_mode": {
    "name": "ipython",
    "version": 3
   },
   "file_extension": ".py",
   "mimetype": "text/x-python",
   "name": "python",
   "nbconvert_exporter": "python",
   "pygments_lexer": "ipython3",
   "version": "3.9.9"
  },
  "orig_nbformat": 4,
  "vscode": {
   "interpreter": {
    "hash": "1c38b1c9abd2c6bfcb1ed2e408fd38deabd48071ce396677118583ebc92ceedc"
   }
  }
 },
 "nbformat": 4,
 "nbformat_minor": 2
}
