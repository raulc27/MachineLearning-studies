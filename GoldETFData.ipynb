{
 "cells": [
  {
   "cell_type": "code",
   "execution_count": null,
   "metadata": {},
   "outputs": [],
   "source": [
    "from sklearn.linear_model import LinearRegression\n",
    "\n",
    "import pandas as pd\n",
    "import numpy as np\n",
    "\n",
    "import matplotlib.pyplot as plt\n",
    "%matplotlib inline\n",
    "plt.style.use('seaborn-darkgrid')\n",
    "\n",
    "import yfinance as yf"
   ]
  },
  {
   "cell_type": "code",
   "execution_count": null,
   "metadata": {},
   "outputs": [],
   "source": [
    "# reading data...\n",
    "Df = yf.download('GLD','2008-01-01','2020-1-20', auto_adjust=True)\n",
    "\n",
    "# only keep close columns\n",
    "Df = Df[['Close']]\n",
    "\n",
    "# Drop rows with missing values\n",
    "Df = Df.dropna()\n",
    "\n",
    "# Plot the closing price of GLD\n",
    "Df.Close.plot(figsize=(10,7), color='r')\n",
    "plt.ylabel(\"Gold ETF Prices\")\n",
    "plt.title(\"Gold ETF Price Series\")\n",
    "plt.show()"
   ]
  }
 ],
 "metadata": {
  "kernelspec": {
   "display_name": "Python 3",
   "language": "python",
   "name": "python3"
  },
  "language_info": {
   "name": "python",
   "version": "3.9.9 (tags/v3.9.9:ccb0e6a, Nov 15 2021, 18:08:50) [MSC v.1929 64 bit (AMD64)]"
  },
  "orig_nbformat": 4,
  "vscode": {
   "interpreter": {
    "hash": "1c38b1c9abd2c6bfcb1ed2e408fd38deabd48071ce396677118583ebc92ceedc"
   }
  }
 },
 "nbformat": 4,
 "nbformat_minor": 2
}
